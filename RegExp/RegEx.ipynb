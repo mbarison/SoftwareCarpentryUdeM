{
 "metadata": {
  "name": ""
 },
 "nbformat": 3,
 "nbformat_minor": 0,
 "worksheets": [
  {
   "cells": [
    {
     "cell_type": "markdown",
     "metadata": {},
     "source": [
      "Regular Expressions\n",
      "===================\n",
      "\n",
      "Regular expressions are a powerful tool to look for patterns and extract data from text. As a scientist, most of the data you will analyze in your career is presented in numerical format and contained in files ready to be processed by analysis software; however, in some cases you will need to retrieve and process data from plain text files. Here are are some real life examples:\n",
      "\n",
      "* the data is shown on a webpage and then saved to an HTML file;\n",
      "* the data comes from a logfile of a program;\n",
      "* the data is cut and pasted from a PDF document;\n",
      "* the data comes from the source of a LaTeX document.\n",
      "\n",
      "In these cases, you have to get rid of useless formatting information (e.g. HTML tags) to be able to access your data. If the files and the datasets are small, you can always do it by hand. But if the \"junk\" text to remove is too much, or if you need to process a few tens of files, then Regular Expressions can help you to automate the task.\n",
      "\n",
      "An unreal life example\n",
      "----------------------\n",
      "\n",
      "A meteorite has struck a remote region of Qu\u00e9bec, and the local population has started mutating, probably infected by an alien virus. As part of a research team, you send two PhD students to investigate. Before they are eaten by the mutants, they manage to send you two text files (internet connectivity is quite bad) with their measurements, now it's up to you to extract the data.\n",
      "\n",
      "Let's have a look at the first file:"
     ]
    },
    {
     "cell_type": "code",
     "collapsed": false,
     "input": [
      "!head NoteBook1.txt"
     ],
     "language": "python",
     "metadata": {},
     "outputs": [
      {
       "output_type": "stream",
       "stream": "stdout",
       "text": [
        "Site\tDate\t\tEvil (millivaders)\n",
        "----\t----\t\t------------------\n",
        "Baker 1\t2012-04-30\t4715.4\n",
        "Baker 2\t2011-07-17\t10.593\n",
        "Baker 1\t2011-08-26\t246.85\n",
        "Baker 2\t2011-06-03\t1499.9\n",
        "Baker 2\t2011-03-12\t1229.5\n",
        "Baker 1\t2012-01-13\t3945.9\n",
        "Baker 2\t2012-04-11\t2005\n",
        "Baker 2\t2011-09-03\t4292.5\n"
       ]
      }
     ],
     "prompt_number": 24
    },
    {
     "cell_type": "markdown",
     "metadata": {},
     "source": [
      "So all information we need is there: there's the name of the measurement site, the date of the measurement, and the measurement of the evil level (in millivaders). The columns are separated by spaces, but unfortunately the site name has spaces too. \n",
      "\n",
      "Let's have a look now at the second file:"
     ]
    },
    {
     "cell_type": "code",
     "collapsed": false,
     "input": [
      "!head Notebook2.txt"
     ],
     "language": "python",
     "metadata": {},
     "outputs": [
      {
       "output_type": "stream",
       "stream": "stdout",
       "text": [
        "Site/Date/Evil\n",
        "-------------------------------\n",
        "Pertwee/February 28, 2012/1287\n",
        "Davison/December 18, 2011/373.09\n",
        "Capaldi/June 08, 2011/519.79\n",
        "Pertwee/February 24, 2012/1554.6\n",
        "Davison/April 28, 2011/4099.6\n",
        "Davison/November 11, 2011/1436.3\n",
        "Capaldi/October 26, 2012/4831.5\n",
        "Pertwee/June 14, 2012/4171.3\n"
       ]
      }
     ],
     "prompt_number": 25
    },
    {
     "cell_type": "markdown",
     "metadata": {},
     "source": [
      "Oh dear... the two students did not agree on the data format. So in this file the columns are separated by slashes, and the dates are formatted differently. Luckily we can use regular expressions to comb the data!\n",
      "\n",
      "Let's start by opening the files in Python, read the first few lines of text from each of the files, so we have a small dataset on which to design and test our regular expressions:"
     ]
    },
    {
     "cell_type": "code",
     "collapsed": false,
     "input": [
      "readings = []\n",
      "filenames = [\"NoteBook1.txt\",\"NoteBook2.txt\"]\n",
      "\n",
      "for fn in filenames:\n",
      "    lines = open(fn).readlines()[2:8]\n",
      "    readings += lines\n",
      "    \n",
      "for r in readings:    \n",
      "    print r.strip()"
     ],
     "language": "python",
     "metadata": {},
     "outputs": [
      {
       "output_type": "stream",
       "stream": "stdout",
       "text": [
        "Baker 1\t2012-04-30\t4715.4\n",
        "Baker 2\t2011-07-17\t10.593\n",
        "Baker 1\t2011-08-26\t246.85\n",
        "Baker 2\t2011-06-03\t1499.9\n",
        "Baker 2\t2011-03-12\t1229.5\n",
        "Baker 1\t2012-01-13\t3945.9\n",
        "Pertwee/February 28, 2012/1287\n",
        "Davison/December 18, 2011/373.09\n",
        "Capaldi/June 08, 2011/519.79\n",
        "Pertwee/February 24, 2012/1554.6\n",
        "Davison/April 28, 2011/4099.6\n",
        "Davison/November 11, 2011/1436.3\n"
       ]
      }
     ],
     "prompt_number": 26
    },
    {
     "cell_type": "markdown",
     "metadata": {},
     "source": [
      "Now, suppose we want to select data collected in June. From the first notebook, we can search for '06' in the month, e.g.:"
     ]
    },
    {
     "cell_type": "code",
     "collapsed": false,
     "input": [
      "for r in readings:\n",
      "    if ('06' in r):\n",
      "        print r"
     ],
     "language": "python",
     "metadata": {},
     "outputs": [
      {
       "output_type": "stream",
       "stream": "stdout",
       "text": [
        "Baker 2\t2011-06-03\t1499.9\n",
        "\n"
       ]
      }
     ],
     "prompt_number": 27
    },
    {
     "cell_type": "markdown",
     "metadata": {},
     "source": [
      "and if we want to select data from June or July, we'd have to do:"
     ]
    },
    {
     "cell_type": "code",
     "collapsed": false,
     "input": [
      "for r in readings:\n",
      "    if ('06' in r) or ('07' in r):\n",
      "        print r"
     ],
     "language": "python",
     "metadata": {},
     "outputs": [
      {
       "output_type": "stream",
       "stream": "stdout",
       "text": [
        "Baker 2\t2011-07-17\t10.593\n",
        "\n",
        "Baker 2\t2011-06-03\t1499.9\n",
        "\n"
       ]
      }
     ],
     "prompt_number": 28
    },
    {
     "cell_type": "markdown",
     "metadata": {},
     "source": [
      "But what if we want to select data from March? Then we run into a problem, because '03' is in some cases a day:"
     ]
    },
    {
     "cell_type": "code",
     "collapsed": false,
     "input": [
      "for r in readings:\n",
      "    if ('03' in r):\n",
      "        print r"
     ],
     "language": "python",
     "metadata": {},
     "outputs": [
      {
       "output_type": "stream",
       "stream": "stdout",
       "text": [
        "Baker 2\t2011-06-03\t1499.9\n",
        "\n",
        "Baker 2\t2011-03-12\t1229.5\n",
        "\n"
       ]
      }
     ],
     "prompt_number": 29
    },
    {
     "cell_type": "markdown",
     "metadata": {},
     "source": [
      "So, the 'in string' search is not very useful. Let's try with the regular expression module from Python:"
     ]
    },
    {
     "cell_type": "code",
     "collapsed": false,
     "input": [
      "import re\n",
      "for r in readings:\n",
      "    if re.search('06', r):\n",
      "        print r"
     ],
     "language": "python",
     "metadata": {},
     "outputs": [
      {
       "output_type": "stream",
       "stream": "stdout",
       "text": [
        "Baker 2\t2011-06-03\t1499.9\n",
        "\n"
       ]
      }
     ],
     "prompt_number": 30
    },
    {
     "cell_type": "code",
     "collapsed": false,
     "input": [
      "for r in readings:\n",
      "    if re.search('06|07', r):\n",
      "        print r"
     ],
     "language": "python",
     "metadata": {},
     "outputs": [
      {
       "output_type": "stream",
       "stream": "stdout",
       "text": [
        "Baker 2\t2011-07-17\t10.593\n",
        "\n",
        "Baker 2\t2011-06-03\t1499.9\n",
        "\n"
       ]
      }
     ],
     "prompt_number": 31
    },
    {
     "cell_type": "markdown",
     "metadata": {},
     "source": [
      "The re.search() function takes two arguments: the first one is the pattern (or _regular expression_) to look for, and the second argument is the string to be scanned. Be careful not to invert the two arguments!\n",
      "\n",
      "We have now also learned that the \"|\" operator is used as an \"OR\" condition in regular expressions, so we can search at the same time for \"06\" or \"07\".\n",
      "\n",
      "Let's now write a helper function that reads in a pattern and a list of strings, and highlights the strings matching the patterns with some asterisks:"
     ]
    },
    {
     "cell_type": "code",
     "collapsed": false,
     "input": [
      "def show_matches(pattern, strings):\n",
      "    \"\"\"Highlights patterns in a list of strings\"\"\"\n",
      "    for s in strings:\n",
      "        if re.search(pattern, s):\n",
      "            print \"***\", s.strip()\n",
      "        else:\n",
      "            print \"   \", s.strip()\n",
      "            \n",
      "    return\n",
      "\n",
      "\n",
      "show_matches(\"06|07\",readings)"
     ],
     "language": "python",
     "metadata": {},
     "outputs": [
      {
       "output_type": "stream",
       "stream": "stdout",
       "text": [
        "    Baker 1\t2012-04-30\t4715.4\n",
        "*** Baker 2\t2011-07-17\t10.593\n",
        "    Baker 1\t2011-08-26\t246.85\n",
        "*** Baker 2\t2011-06-03\t1499.9\n",
        "    Baker 2\t2011-03-12\t1229.5\n",
        "    Baker 1\t2012-01-13\t3945.9\n",
        "    Pertwee/February 28, 2012/1287\n",
        "    Davison/December 18, 2011/373.09\n",
        "    Capaldi/June 08, 2011/519.79\n",
        "    Pertwee/February 24, 2012/1554.6\n",
        "    Davison/April 28, 2011/4099.6\n",
        "    Davison/November 11, 2011/1436.3\n"
       ]
      }
     ],
     "prompt_number": 32
    },
    {
     "cell_type": "markdown",
     "metadata": {},
     "source": [
      "So the function works as expected. Why this isn't working?"
     ]
    },
    {
     "cell_type": "code",
     "collapsed": false,
     "input": [
      "show_matches(\"06|7\", readings)"
     ],
     "language": "python",
     "metadata": {},
     "outputs": [
      {
       "output_type": "stream",
       "stream": "stdout",
       "text": [
        "*** Baker 1\t2012-04-30\t4715.4\n",
        "*** Baker 2\t2011-07-17\t10.593\n",
        "    Baker 1\t2011-08-26\t246.85\n",
        "*** Baker 2\t2011-06-03\t1499.9\n",
        "    Baker 2\t2011-03-12\t1229.5\n",
        "    Baker 1\t2012-01-13\t3945.9\n",
        "*** Pertwee/February 28, 2012/1287\n",
        "*** Davison/December 18, 2011/373.09\n",
        "*** Capaldi/June 08, 2011/519.79\n",
        "    Pertwee/February 24, 2012/1554.6\n",
        "    Davison/April 28, 2011/4099.6\n",
        "    Davison/November 11, 2011/1436.3\n"
       ]
      }
     ],
     "prompt_number": 33
    },
    {
     "cell_type": "markdown",
     "metadata": {},
     "source": [
      "It doesn't work as expected because it's matching \"06\" or \"7\", and what we meant was: get us something that begins with a \"0\" and then a \"6\" or a \"7\". Luckily, we can modify the behaviour by using parentheses.\n",
      "\n",
      "Let's make a parallel with mathematics: imagine you tell your computer to compute this equation: a\\*b+c. The computer has its own set of rules to order mathematical operators, so it's up to you to specify if you meant (a\\*b)+c or a\\*(b+c).\n",
      "\n",
      "So the pattern we need to use here is: \"0(6|7)\": find me a \"0\", and then a \"6\" or a \"7\""
     ]
    },
    {
     "cell_type": "code",
     "collapsed": false,
     "input": [
      "show_matches(\"0(6|7)\", readings)"
     ],
     "language": "python",
     "metadata": {},
     "outputs": [
      {
       "output_type": "stream",
       "stream": "stdout",
       "text": [
        "    Baker 1\t2012-04-30\t4715.4\n",
        "*** Baker 2\t2011-07-17\t10.593\n",
        "    Baker 1\t2011-08-26\t246.85\n",
        "*** Baker 2\t2011-06-03\t1499.9\n",
        "    Baker 2\t2011-03-12\t1229.5\n",
        "    Baker 1\t2012-01-13\t3945.9\n",
        "    Pertwee/February 28, 2012/1287\n",
        "    Davison/December 18, 2011/373.09\n",
        "    Capaldi/June 08, 2011/519.79\n",
        "    Pertwee/February 24, 2012/1554.6\n",
        "    Davison/April 28, 2011/4099.6\n",
        "    Davison/November 11, 2011/1436.3\n"
       ]
      }
     ],
     "prompt_number": 34
    },
    {
     "cell_type": "markdown",
     "metadata": {},
     "source": [
      "which is the result we wanted.\n",
      "\n",
      "Now, remember we had a problem with March?"
     ]
    },
    {
     "cell_type": "code",
     "collapsed": false,
     "input": [
      "show_matches(\"03\", readings)"
     ],
     "language": "python",
     "metadata": {},
     "outputs": [
      {
       "output_type": "stream",
       "stream": "stdout",
       "text": [
        "    Baker 1\t2012-04-30\t4715.4\n",
        "    Baker 2\t2011-07-17\t10.593\n",
        "    Baker 1\t2011-08-26\t246.85\n",
        "*** Baker 2\t2011-06-03\t1499.9\n",
        "*** Baker 2\t2011-03-12\t1229.5\n",
        "    Baker 1\t2012-01-13\t3945.9\n",
        "    Pertwee/February 28, 2012/1287\n",
        "    Davison/December 18, 2011/373.09\n",
        "    Capaldi/June 08, 2011/519.79\n",
        "    Pertwee/February 24, 2012/1554.6\n",
        "    Davison/April 28, 2011/4099.6\n",
        "    Davison/November 11, 2011/1436.3\n"
       ]
      }
     ],
     "prompt_number": 35
    },
    {
     "cell_type": "markdown",
     "metadata": {},
     "source": [
      "We can use the knowledge of the data format to refine the search: if we are looking for a month, then the number must appear between dashes: \"-03-\":"
     ]
    },
    {
     "cell_type": "code",
     "collapsed": false,
     "input": [
      "show_matches(\"-03-\", readings)"
     ],
     "language": "python",
     "metadata": {},
     "outputs": [
      {
       "output_type": "stream",
       "stream": "stdout",
       "text": [
        "    Baker 1\t2012-04-30\t4715.4\n",
        "    Baker 2\t2011-07-17\t10.593\n",
        "    Baker 1\t2011-08-26\t246.85\n",
        "    Baker 2\t2011-06-03\t1499.9\n",
        "*** Baker 2\t2011-03-12\t1229.5\n",
        "    Baker 1\t2012-01-13\t3945.9\n",
        "    Pertwee/February 28, 2012/1287\n",
        "    Davison/December 18, 2011/373.09\n",
        "    Capaldi/June 08, 2011/519.79\n",
        "    Pertwee/February 24, 2012/1554.6\n",
        "    Davison/April 28, 2011/4099.6\n",
        "    Davison/November 11, 2011/1436.3\n"
       ]
      }
     ],
     "prompt_number": 36
    },
    {
     "cell_type": "code",
     "collapsed": false,
     "input": [],
     "language": "python",
     "metadata": {},
     "outputs": []
    }
   ],
   "metadata": {}
  }
 ]
}