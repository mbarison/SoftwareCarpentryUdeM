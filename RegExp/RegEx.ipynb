{
 "metadata": {
  "name": ""
 },
 "nbformat": 3,
 "nbformat_minor": 0,
 "worksheets": [
  {
   "cells": [
    {
     "cell_type": "markdown",
     "metadata": {},
     "source": [
      "Regular Expressions\n",
      "===================\n",
      "\n",
      "Regular expressions are a powerful tool to look for patterns and extract data from text. As a scientist, most of the data you will analyze in your career is presented in numerical format and contained in files ready to be processed by analysis software; however, in some cases you will need to retrieve and process data from plain text files. Here are are some real life examples:\n",
      "\n",
      "* the data is shown on a webpage and then saved to an HTML file;\n",
      "* the data comes from a logfile of a program;\n",
      "* the data is cut and pasted from a PDF document;\n",
      "* the data comes from the source of a LaTeX document.\n",
      "\n",
      "In these cases, you have to get rid of useless formatting information (e.g. HTML tags) to be able to access your data. If the files and the datasets are small, you can always do it by hand. But if the \"junk\" text to remove is too much, or if you need to process a few tens of files, then Regular Expressions can help you to automate the task.\n",
      "\n",
      "An unreal life example\n",
      "----------------------\n",
      "\n",
      "A meteorite has struck a remote region of Qu\u00e9bec, and the local population has started mutating, probably infected by an alien virus. As part of a research team, you send two PhD students to investigate. Before they are eaten by the mutants, they manage to send you two text files (internet connectivity is quite bad) with their measurements, now it's up to you to extract the data.\n",
      "\n",
      "Let's have a look at the first file:"
     ]
    },
    {
     "cell_type": "code",
     "collapsed": false,
     "input": [
      "!head NoteBook1.txt"
     ],
     "language": "python",
     "metadata": {},
     "outputs": [
      {
       "output_type": "stream",
       "stream": "stdout",
       "text": [
        "Site\tDate\t\tEvil (millivaders)\n",
        "----\t----\t\t------------------\n",
        "Baker 1\t2012-04-30\t4715.4\n",
        "Baker 2\t2011-07-17\t10.593\n",
        "Baker 1\t2011-08-26\t246.85\n",
        "Baker 2\t2011-06-03\t1499.9\n",
        "Baker 2\t2011-03-12\t1229.5\n",
        "Baker 1\t2012-01-13\t3945.9\n",
        "Baker 2\t2012-04-11\t2005\n",
        "Baker 2\t2011-09-03\t4292.5\n"
       ]
      }
     ],
     "prompt_number": 1
    },
    {
     "cell_type": "markdown",
     "metadata": {},
     "source": [
      "So all information we need is there: there's the name of the measurement site, the date of the measurement, and the measurement of the evil level (in millivaders). The columns are separated by spaces, but unfortunately the site name has spaces too. \n",
      "\n",
      "Let's have a look now at the second file:"
     ]
    },
    {
     "cell_type": "code",
     "collapsed": false,
     "input": [
      "!head Notebook2.txt"
     ],
     "language": "python",
     "metadata": {},
     "outputs": [
      {
       "output_type": "stream",
       "stream": "stdout",
       "text": [
        "Site/Date/Evil\n",
        "-------------------------------\n",
        "Pertwee/February 28, 2012/1287\n",
        "Davison/December 18, 2011/373.09\n",
        "Capaldi/June 08, 2011/519.79\n",
        "Pertwee/February 24, 2012/1554.6\n",
        "Davison/April 28, 2011/4099.6\n",
        "Davison/November 11, 2011/1436.3\n",
        "Capaldi/October 26, 2012/4831.5\n",
        "Pertwee/June 14, 2012/4171.3\n"
       ]
      }
     ],
     "prompt_number": 2
    },
    {
     "cell_type": "markdown",
     "metadata": {},
     "source": [
      "Oh dear... the two students did not agree on the data format. So in this file the columns are separated by slashes, and the dates are formatted differently. Luckily we can use regular expressions to comb the data!\n",
      "\n",
      "Extracting Data from Notebook 1\n",
      "-------------------------------\n",
      "\n",
      "Let's start by opening the files in Python, read the first few lines of text from each of the files, so we have a small dataset on which to design and test our regular expressions:"
     ]
    },
    {
     "cell_type": "code",
     "collapsed": false,
     "input": [
      "readings = []\n",
      "filenames = [\"NoteBook1.txt\",\"NoteBook2.txt\"]\n",
      "\n",
      "for fn in filenames:\n",
      "    lines = open(fn).readlines()[2:8]\n",
      "    readings += lines\n",
      "    \n",
      "for r in readings:    \n",
      "    print r.strip()"
     ],
     "language": "python",
     "metadata": {},
     "outputs": [
      {
       "output_type": "stream",
       "stream": "stdout",
       "text": [
        "Baker 1\t2012-04-30\t4715.4\n",
        "Baker 2\t2011-07-17\t10.593\n",
        "Baker 1\t2011-08-26\t246.85\n",
        "Baker 2\t2011-06-03\t1499.9\n",
        "Baker 2\t2011-03-12\t1229.5\n",
        "Baker 1\t2012-01-13\t3945.9\n",
        "Pertwee/February 28, 2012/1287\n",
        "Davison/December 18, 2011/373.09\n",
        "Capaldi/June 08, 2011/519.79\n",
        "Pertwee/February 24, 2012/1554.6\n",
        "Davison/April 28, 2011/4099.6\n",
        "Davison/November 11, 2011/1436.3\n"
       ]
      }
     ],
     "prompt_number": 3
    },
    {
     "cell_type": "markdown",
     "metadata": {},
     "source": [
      "Now, suppose we want to select data collected in June. From the first notebook, we can search for '06' in the month, e.g.:"
     ]
    },
    {
     "cell_type": "code",
     "collapsed": false,
     "input": [
      "for r in readings:\n",
      "    if ('06' in r):\n",
      "        print r"
     ],
     "language": "python",
     "metadata": {},
     "outputs": [
      {
       "output_type": "stream",
       "stream": "stdout",
       "text": [
        "Baker 2\t2011-06-03\t1499.9\n",
        "\n"
       ]
      }
     ],
     "prompt_number": 4
    },
    {
     "cell_type": "markdown",
     "metadata": {},
     "source": [
      "and if we want to select data from June or July, we'd have to do:"
     ]
    },
    {
     "cell_type": "code",
     "collapsed": false,
     "input": [
      "for r in readings:\n",
      "    if ('06' in r) or ('07' in r):\n",
      "        print r"
     ],
     "language": "python",
     "metadata": {},
     "outputs": [
      {
       "output_type": "stream",
       "stream": "stdout",
       "text": [
        "Baker 2\t2011-07-17\t10.593\n",
        "\n",
        "Baker 2\t2011-06-03\t1499.9\n",
        "\n"
       ]
      }
     ],
     "prompt_number": 5
    },
    {
     "cell_type": "markdown",
     "metadata": {},
     "source": [
      "But what if we want to select data from March? Then we run into a problem, because '03' is in some cases a day:"
     ]
    },
    {
     "cell_type": "code",
     "collapsed": false,
     "input": [
      "for r in readings:\n",
      "    if ('03' in r):\n",
      "        print r"
     ],
     "language": "python",
     "metadata": {},
     "outputs": [
      {
       "output_type": "stream",
       "stream": "stdout",
       "text": [
        "Baker 2\t2011-06-03\t1499.9\n",
        "\n",
        "Baker 2\t2011-03-12\t1229.5\n",
        "\n"
       ]
      }
     ],
     "prompt_number": 6
    },
    {
     "cell_type": "markdown",
     "metadata": {},
     "source": [
      "So, the 'in string' search is not very useful. Let's try with the regular expression module from Python:"
     ]
    },
    {
     "cell_type": "code",
     "collapsed": false,
     "input": [
      "import re\n",
      "for r in readings:\n",
      "    if re.search('06', r):\n",
      "        print r"
     ],
     "language": "python",
     "metadata": {},
     "outputs": [
      {
       "output_type": "stream",
       "stream": "stdout",
       "text": [
        "Baker 2\t2011-06-03\t1499.9\n",
        "\n"
       ]
      }
     ],
     "prompt_number": 7
    },
    {
     "cell_type": "code",
     "collapsed": false,
     "input": [
      "for r in readings:\n",
      "    if re.search('06|07', r):\n",
      "        print r"
     ],
     "language": "python",
     "metadata": {},
     "outputs": [
      {
       "output_type": "stream",
       "stream": "stdout",
       "text": [
        "Baker 2\t2011-07-17\t10.593\n",
        "\n",
        "Baker 2\t2011-06-03\t1499.9\n",
        "\n"
       ]
      }
     ],
     "prompt_number": 8
    },
    {
     "cell_type": "markdown",
     "metadata": {},
     "source": [
      "The re.search() function takes two arguments: the first one is the pattern (or _regular expression_) to look for, and the second argument is the string to be scanned. Be careful not to invert the two arguments!\n",
      "\n",
      "We have now also learned that the \"|\" operator is used as an \"OR\" condition in regular expressions, so we can search at the same time for \"06\" or \"07\".\n",
      "\n",
      "Let's now write a helper function that reads in a pattern and a list of strings, and highlights the strings matching the patterns with some asterisks:"
     ]
    },
    {
     "cell_type": "code",
     "collapsed": false,
     "input": [
      "def show_matches(pattern, strings):\n",
      "    \"\"\"Highlights patterns in a list of strings\"\"\"\n",
      "    for s in strings:\n",
      "        if re.search(pattern, s):\n",
      "            print \"***\", s.strip()\n",
      "        else:\n",
      "            print \"   \", s.strip()\n",
      "            \n",
      "    return\n",
      "\n",
      "\n",
      "show_matches(\"06|07\",readings)"
     ],
     "language": "python",
     "metadata": {},
     "outputs": [
      {
       "output_type": "stream",
       "stream": "stdout",
       "text": [
        "    Baker 1\t2012-04-30\t4715.4\n",
        "*** Baker 2\t2011-07-17\t10.593\n",
        "    Baker 1\t2011-08-26\t246.85\n",
        "*** Baker 2\t2011-06-03\t1499.9\n",
        "    Baker 2\t2011-03-12\t1229.5\n",
        "    Baker 1\t2012-01-13\t3945.9\n",
        "    Pertwee/February 28, 2012/1287\n",
        "    Davison/December 18, 2011/373.09\n",
        "    Capaldi/June 08, 2011/519.79\n",
        "    Pertwee/February 24, 2012/1554.6\n",
        "    Davison/April 28, 2011/4099.6\n",
        "    Davison/November 11, 2011/1436.3\n"
       ]
      }
     ],
     "prompt_number": 9
    },
    {
     "cell_type": "markdown",
     "metadata": {},
     "source": [
      "So the function works as expected. Why this isn't working?"
     ]
    },
    {
     "cell_type": "code",
     "collapsed": false,
     "input": [
      "show_matches(\"06|7\", readings)"
     ],
     "language": "python",
     "metadata": {},
     "outputs": [
      {
       "output_type": "stream",
       "stream": "stdout",
       "text": [
        "*** Baker 1\t2012-04-30\t4715.4\n",
        "*** Baker 2\t2011-07-17\t10.593\n",
        "    Baker 1\t2011-08-26\t246.85\n",
        "*** Baker 2\t2011-06-03\t1499.9\n",
        "    Baker 2\t2011-03-12\t1229.5\n",
        "    Baker 1\t2012-01-13\t3945.9\n",
        "*** Pertwee/February 28, 2012/1287\n",
        "*** Davison/December 18, 2011/373.09\n",
        "*** Capaldi/June 08, 2011/519.79\n",
        "    Pertwee/February 24, 2012/1554.6\n",
        "    Davison/April 28, 2011/4099.6\n",
        "    Davison/November 11, 2011/1436.3\n"
       ]
      }
     ],
     "prompt_number": 10
    },
    {
     "cell_type": "markdown",
     "metadata": {},
     "source": [
      "It doesn't work as expected because it's matching \"06\" or \"7\", and what we meant was: get us something that begins with a \"0\" and then a \"6\" or a \"7\". Luckily, we can modify the behaviour by using parentheses.\n",
      "\n",
      "Let's make a parallel with mathematics: imagine you tell your computer to compute this equation: a\\*b+c. The computer has its own set of rules to order mathematical operators, so it's up to you to specify if you meant (a\\*b)+c or a\\*(b+c).\n",
      "\n",
      "So the pattern we need to use here is: \"0(6|7)\": find me a \"0\", and then a \"6\" or a \"7\""
     ]
    },
    {
     "cell_type": "code",
     "collapsed": false,
     "input": [
      "show_matches(\"0(6|7)\", readings)"
     ],
     "language": "python",
     "metadata": {},
     "outputs": [
      {
       "output_type": "stream",
       "stream": "stdout",
       "text": [
        "    Baker 1\t2012-04-30\t4715.4\n",
        "*** Baker 2\t2011-07-17\t10.593\n",
        "    Baker 1\t2011-08-26\t246.85\n",
        "*** Baker 2\t2011-06-03\t1499.9\n",
        "    Baker 2\t2011-03-12\t1229.5\n",
        "    Baker 1\t2012-01-13\t3945.9\n",
        "    Pertwee/February 28, 2012/1287\n",
        "    Davison/December 18, 2011/373.09\n",
        "    Capaldi/June 08, 2011/519.79\n",
        "    Pertwee/February 24, 2012/1554.6\n",
        "    Davison/April 28, 2011/4099.6\n",
        "    Davison/November 11, 2011/1436.3\n"
       ]
      }
     ],
     "prompt_number": 11
    },
    {
     "cell_type": "markdown",
     "metadata": {},
     "source": [
      "which is the result we wanted.\n",
      "\n",
      "Now, remember we had a problem with March?"
     ]
    },
    {
     "cell_type": "code",
     "collapsed": false,
     "input": [
      "show_matches(\"03\", readings)"
     ],
     "language": "python",
     "metadata": {},
     "outputs": [
      {
       "output_type": "stream",
       "stream": "stdout",
       "text": [
        "    Baker 1\t2012-04-30\t4715.4\n",
        "    Baker 2\t2011-07-17\t10.593\n",
        "    Baker 1\t2011-08-26\t246.85\n",
        "*** Baker 2\t2011-06-03\t1499.9\n",
        "*** Baker 2\t2011-03-12\t1229.5\n",
        "    Baker 1\t2012-01-13\t3945.9\n",
        "    Pertwee/February 28, 2012/1287\n",
        "    Davison/December 18, 2011/373.09\n",
        "    Capaldi/June 08, 2011/519.79\n",
        "    Pertwee/February 24, 2012/1554.6\n",
        "    Davison/April 28, 2011/4099.6\n",
        "    Davison/November 11, 2011/1436.3\n"
       ]
      }
     ],
     "prompt_number": 12
    },
    {
     "cell_type": "markdown",
     "metadata": {},
     "source": [
      "We can use the knowledge of the data format to refine the search: if we are looking for a month, then the number must appear between dashes: \"-03-\":"
     ]
    },
    {
     "cell_type": "code",
     "collapsed": false,
     "input": [
      "show_matches(\"-03-\", readings)"
     ],
     "language": "python",
     "metadata": {},
     "outputs": [
      {
       "output_type": "stream",
       "stream": "stdout",
       "text": [
        "    Baker 1\t2012-04-30\t4715.4\n",
        "    Baker 2\t2011-07-17\t10.593\n",
        "    Baker 1\t2011-08-26\t246.85\n",
        "    Baker 2\t2011-06-03\t1499.9\n",
        "*** Baker 2\t2011-03-12\t1229.5\n",
        "    Baker 1\t2012-01-13\t3945.9\n",
        "    Pertwee/February 28, 2012/1287\n",
        "    Davison/December 18, 2011/373.09\n",
        "    Capaldi/June 08, 2011/519.79\n",
        "    Pertwee/February 24, 2012/1554.6\n",
        "    Davison/April 28, 2011/4099.6\n",
        "    Davison/November 11, 2011/1436.3\n"
       ]
      }
     ],
     "prompt_number": 13
    },
    {
     "cell_type": "markdown",
     "metadata": {},
     "source": [
      "So, we have found a way to check if a certain data pattern is present in the text. But we also want to be able to extract data and store it for future use. Luckily enough, the syntax of Regular Expressions allows us to do so: everything included between parentheses in Regular Expression can be stored. So not only parentheses are used to order the pattern matching process, but also help to store the matches. For example:"
     ]
    },
    {
     "cell_type": "code",
     "collapsed": false,
     "input": [
      "match = re.search(\"(2011|2012)\", \"Baker 2\t2011-07-17\t10.593\")\n",
      "print match.group(1)"
     ],
     "language": "python",
     "metadata": {},
     "outputs": [
      {
       "output_type": "stream",
       "stream": "stdout",
       "text": [
        "2011\n"
       ]
      }
     ],
     "prompt_number": 14
    },
    {
     "cell_type": "markdown",
     "metadata": {},
     "source": [
      "In this example, `match` is either a object returned from the `re.search` function or `None`, the Python null object, if no match is found.\n",
      "\n",
      "We can then call the `group(k)` function on the match object, which returns the k-th sub-expression between parentheses. Please note that (unlike other examples in Python), the first object is indicated by `k=1`; `k=0` indicates the whole matched expression.\n",
      "\n",
      "The dot ('.') operator\n",
      "--------------------\n",
      "\n",
      "What if we want to match data from *any* month of the year? One solution would be to match every possible month, e.g. using `\"(01|02|03|04|05|06|07|08|09|10|11|12)\"` but this seems quite unelegant and cumbersome. What if we want to match days too? We certainly don't want to write out all numbers from 01 to 31!\n",
      "\n",
      "In this case, we can make use of the dot '.' operator which matches *any* single charachter. Then the pattern to match a date is \"....-..-..\", and to store the information we can use parentheses like this: \"(....)-(..)-(..)\"\n",
      "\n",
      "Let's try it out:"
     ]
    },
    {
     "cell_type": "code",
     "collapsed": false,
     "input": [
      "match = re.search(\"(....)-(..)-(..)\", \"Baker 2\t2011-07-17\t10.593\")\n",
      "print match.group(1)\n",
      "print match.group(2)\n",
      "print match.group(3)"
     ],
     "language": "python",
     "metadata": {},
     "outputs": [
      {
       "output_type": "stream",
       "stream": "stdout",
       "text": [
        "2011\n",
        "07\n",
        "17\n"
       ]
      }
     ],
     "prompt_number": 15
    },
    {
     "cell_type": "markdown",
     "metadata": {},
     "source": [
      "Recap\n",
      "-----\n",
      "\n",
      "1. Letters and numbers match themselves\n",
      "1. '|' means OR\n",
      "1. '.' matches any single charachter\n",
      "1. Parentheses can be used to order matching and group data\n",
      "1. `re.search` returns a match object or `None`\n",
      "1. `match.group(k)` returns the k-th group that matched the text\n",
      "\n",
      "Extracting Data from Notebook 2\n",
      "-------------------------------\n",
      "\n",
      "Extracting data from Notebook 2 seems much more difficult, because whereas for Notebook 1 the date format was fixed, in this case the months are expressed in literal form with variable length. In this case, we can use the star `'*'` operator which, put after an expression, means *zero or more of what came before*, so for example  `\".*\"` means *zero or more any single characters*.\n",
      "\n",
      "Let's try it out:"
     ]
    },
    {
     "cell_type": "code",
     "collapsed": false,
     "input": [
      "match = re.search(\"(.*)/(.*)/(.*)\", \"Pertwee/February 28, 2012/1287\")\n",
      "print match.group(1)\n",
      "print match.group(2)\n",
      "print match.group(3)"
     ],
     "language": "python",
     "metadata": {},
     "outputs": [
      {
       "output_type": "stream",
       "stream": "stdout",
       "text": [
        "Pertwee\n",
        "February 28, 2012\n",
        "1287\n"
       ]
      }
     ],
     "prompt_number": 16
    },
    {
     "cell_type": "markdown",
     "metadata": {},
     "source": [
      "But there's a catch, as `'*'` means \"zero or more\", this pattern matches also a string containing only \"//\", and the matched groups are empty:"
     ]
    },
    {
     "cell_type": "code",
     "collapsed": false,
     "input": [
      "match = re.search(\"(.*)/(.*)/(.*)\", \"//\")\n",
      "print match.group(0)\n",
      "print '*', match.group(1)\n",
      "print '*', match.group(2)\n",
      "print '*', match.group(3)"
     ],
     "language": "python",
     "metadata": {},
     "outputs": [
      {
       "output_type": "stream",
       "stream": "stdout",
       "text": [
        "//\n",
        "* \n",
        "* \n",
        "* \n"
       ]
      }
     ],
     "prompt_number": 17
    },
    {
     "cell_type": "markdown",
     "metadata": {},
     "source": [
      "This is dangerous, as we could accept badly written, empty data. To fix this, we use the plus `'+'` operator, which means *one or more of what came before me*. All operators that modify the behaviour of the search when placed *after* something are called *postfix operators*.\n",
      "\n",
      "Let's try this out:"
     ]
    },
    {
     "cell_type": "code",
     "collapsed": false,
     "input": [
      "match = re.search(\"(.+)/(.+)/(.+)\", \"//\")\n",
      "print match"
     ],
     "language": "python",
     "metadata": {},
     "outputs": [
      {
       "output_type": "stream",
       "stream": "stdout",
       "text": [
        "None\n"
       ]
      }
     ],
     "prompt_number": 18
    },
    {
     "cell_type": "markdown",
     "metadata": {},
     "source": [
      "The result is `None` as the pattern no longer match the string. Let's check that the new pattern matches a valid string: "
     ]
    },
    {
     "cell_type": "code",
     "collapsed": false,
     "input": [
      "match = re.search(\"(.+)/(.+)/(.+)\", \"Pertwee/February 28, 2012/1287\")\n",
      "print '*', match.group(1)\n",
      "print '*', match.group(2)\n",
      "print '*', match.group(3)"
     ],
     "language": "python",
     "metadata": {},
     "outputs": [
      {
       "output_type": "stream",
       "stream": "stdout",
       "text": [
        "* Pertwee\n",
        "* February 28, 2012\n",
        "* 1287\n"
       ]
      }
     ],
     "prompt_number": 19
    },
    {
     "cell_type": "markdown",
     "metadata": {},
     "source": [
      "Let's now write an helper function that tries to match an arbitrary pattern to an arbitrary string, prints out \"NO MATCH\" if no match is found, or the list of matches if the pattern is found:"
     ]
    },
    {
     "cell_type": "code",
     "collapsed": false,
     "input": [
      "def show_groups(pattern, text):\n",
      "    \"\"\"An helper function that tries to match an arbitrary pattern to an arbitrary string\n",
      "prints out \"NO MATCH\" if no match is found, \n",
      "or the list of matches if the pattern is found.\"\"\"\n",
      "    m = re.search(pattern, text)\n",
      "    if m is None:\n",
      "        print \"NO MATCH\"\n",
      "        return\n",
      "    else:\n",
      "        for i in range(1,len(m.groups())+1):\n",
      "            print i, m.group(i)\n",
      "    return\n",
      "\n",
      "show_groups(\"(.+)/(.+)/(.+)\", \"Pertwee/February 28, 2012/1287\")"
     ],
     "language": "python",
     "metadata": {},
     "outputs": [
      {
       "output_type": "stream",
       "stream": "stdout",
       "text": [
        "1 Pertwee\n",
        "2 February 28, 2012\n",
        "3 1287\n"
       ]
      }
     ],
     "prompt_number": 20
    },
    {
     "cell_type": "markdown",
     "metadata": {},
     "source": [
      "Now we can refine the pattern, to break down the date; we know the date contains:\n",
      "1. one or more characters\n",
      "1. a space\n",
      "1. two charachters\n",
      "1. a comma\n",
      "1. a space\n",
      "1. four charachters\n",
      "\n",
      "*Try it yourself!*"
     ]
    },
    {
     "cell_type": "code",
     "collapsed": false,
     "input": [
      "show_groups(\"(.+)/(.+) (.+), (.+)/(.+)\", \"Pertwee/February 28, 2012/1287\")"
     ],
     "language": "python",
     "metadata": {},
     "outputs": [
      {
       "output_type": "stream",
       "stream": "stdout",
       "text": [
        "1 Pertwee\n",
        "2 February\n",
        "3 28\n",
        "4 2012\n",
        "5 1287\n"
       ]
      }
     ],
     "prompt_number": 21
    },
    {
     "cell_type": "markdown",
     "metadata": {},
     "source": [
      "Why this doesn't work?"
     ]
    },
    {
     "cell_type": "code",
     "collapsed": false,
     "input": [
      "show_groups(\"(.+)/(.+) (.+), (.+)/(.+)\", \"Capaldi/February 24 2011/4595.4\")"
     ],
     "language": "python",
     "metadata": {},
     "outputs": [
      {
       "output_type": "stream",
       "stream": "stdout",
       "text": [
        "NO MATCH\n"
       ]
      }
     ],
     "prompt_number": 22
    },
    {
     "cell_type": "markdown",
     "metadata": {},
     "source": [
      "That's because the date in this case is badly formatted, the comma after the day is missing.\n",
      "We can fix that using the '?' operator that means *zero or one of what came before*.\n",
      "\n",
      "So now the pattern matches the data with no comma:"
     ]
    },
    {
     "cell_type": "code",
     "collapsed": false,
     "input": [
      "show_groups(\"(.+)/(.+) (.+),? (.+)/(.+)\", \"Capaldi/February 24 2011/4595.4\")"
     ],
     "language": "python",
     "metadata": {},
     "outputs": [
      {
       "output_type": "stream",
       "stream": "stdout",
       "text": [
        "1 Capaldi\n",
        "2 February\n",
        "3 24\n",
        "4 2011\n",
        "5 4595.4\n"
       ]
      }
     ],
     "prompt_number": 23
    },
    {
     "cell_type": "markdown",
     "metadata": {},
     "source": [
      "We don't want to match records where the date is badly mistyped, e.g. if the year has less than four digits:"
     ]
    },
    {
     "cell_type": "code",
     "collapsed": false,
     "input": [
      "show_groups(\"(.+)/(.+) (.+?),? (.+)/(.+)\", \"Davison/August 26, 201/4103.3\")"
     ],
     "language": "python",
     "metadata": {},
     "outputs": [
      {
       "output_type": "stream",
       "stream": "stdout",
       "text": [
        "1 Davison\n",
        "2 August\n",
        "3 26\n",
        "4 201\n",
        "5 4103.3\n"
       ]
      }
     ],
     "prompt_number": 24
    },
    {
     "cell_type": "markdown",
     "metadata": {},
     "source": [
      "We could use \"(....)\" to request four characters, but there's a prettier solution: we can use the postfix operator '{N}' which requires *exactly N times of what came before*, so four characters becomes \"(.{4})\""
     ]
    },
    {
     "cell_type": "code",
     "collapsed": false,
     "input": [
      "show_groups(\"(.+)/(.+) (.+),? (.{4})/(.+)\", \"Davison/August 26, 201/4103.3\")"
     ],
     "language": "python",
     "metadata": {},
     "outputs": [
      {
       "output_type": "stream",
       "stream": "stdout",
       "text": [
        "NO MATCH\n"
       ]
      }
     ],
     "prompt_number": 25
    },
    {
     "cell_type": "markdown",
     "metadata": {},
     "source": [
      "But wait! What is happening here?"
     ]
    },
    {
     "cell_type": "code",
     "collapsed": false,
     "input": [
      "show_groups(\"(.+)/(.+) (.+),? (.{4})/(.+)\", \"Capaldi/April , 2012/925.83\")"
     ],
     "language": "python",
     "metadata": {},
     "outputs": [
      {
       "output_type": "stream",
       "stream": "stdout",
       "text": [
        "1 Capaldi\n",
        "2 April\n",
        "3 ,\n",
        "4 2012\n",
        "5 925.83\n"
       ]
      }
     ],
     "prompt_number": 26
    },
    {
     "cell_type": "markdown",
     "metadata": {},
     "source": [
      "Here \",\" matches the pattern \"(.+?)\": one or more of any characters, and then a comma or not. \",\" Fits the description perfectly! So maybe we don't want one or more of any character, we want one or two numbers.\n",
      "\n",
      "One or two can be indicated by the postfix operator \"{M,N}\" which means *at least M and at most N of what came before*\n",
      "And number can be indicated by \"[0-9]\" which means: *any character in the range from 0 to 9*\n",
      "\n",
      "Square brackets are use to indicate generically a set of characters, either as a range or not e.g.:\n",
      "\n",
      "* Digits: [0-9]\n",
      "* Vowels: [aeiou]\n",
      "* abc: [abc] or [a-c]\n",
      "* Lower case letters: [a-z]\n",
      "* Upper case letters: [A-Z]\n",
      "* Upper case and lower case letters: [a-z,A-Z]\n",
      "\n",
      "So it's.... \"([0-9]{1,2})\", and now the damaged string should not match anymore:"
     ]
    },
    {
     "cell_type": "code",
     "collapsed": false,
     "input": [
      "show_groups(\"(.+)/(.+) ([0-9]{1,2}),? (.{4})/(.+)\", \"Capaldi/April , 2012/925.83\")"
     ],
     "language": "python",
     "metadata": {},
     "outputs": [
      {
       "output_type": "stream",
       "stream": "stdout",
       "text": [
        "NO MATCH\n"
       ]
      }
     ],
     "prompt_number": 27
    },
    {
     "cell_type": "markdown",
     "metadata": {},
     "source": [
      "Now, with the knowledge you got about square brackets and sets, perfect the pattern so that it's the most strict but still functional; i.e. that will allow only a good formatted date.\n",
      "\n",
      "You know that:\n",
      "\n",
      "* a month starts with an uppercase letter, followed by lowercase letters,\n",
      "* a day is one or two digits\n",
      "* a year is four digits\n",
      "\n",
      "Answer: \n",
      "\n",
      "`p = \"(.+)/([A-Z][a-z]+) ([0-9]{1,2}),? ([0-9]{4})/(.+)\"`\n",
      "\n",
      "Putting it all together\n",
      "-----------------------\n",
      "\n",
      "With our beautifully crafted patterns, we can now write a function that returns a date as a string, and that can work with both date notations."
     ]
    },
    {
     "cell_type": "code",
     "collapsed": false,
     "input": [
      "def get_date(record):\n",
      "    \"\"\"Returns Year, Month, Day as a string, or None.\"\"\"\n",
      "    \n",
      "    # Notation: 2010-01-01\n",
      "    m = re.search(\"([0-9]{4})-([0-9]{2})-([0-9]{2})\", record)\n",
      "    if m:\n",
      "        return m.group(1), m.group(2), m.group(3)\n",
      "        \n",
      "    # Notation: January 1, 2010\n",
      "    m = re.search(\"/([A-Z][a-z]+) ([0-9]{1,2}),? ([0-9]{4})/\", record)\n",
      "    if m:\n",
      "        return m.group(3), m.group(1), m.group(2)\n",
      "        \n",
      "    return None"
     ],
     "language": "python",
     "metadata": {},
     "outputs": [],
     "prompt_number": 28
    },
    {
     "cell_type": "markdown",
     "metadata": {},
     "source": [
      "Why didn't we try to catch everything with one regular expression?\n",
      "\n",
      "* Possibly too complex\n",
      "* More readable this way\n",
      "* Easier to extend if more patterns need to be added\n",
      "\n",
      "A function to rule them all\n",
      "---------------------------\n",
      "\n",
      "Instead of just returning a string with the date, let's break down the text into all components which could be used in another part of the software. Also, we will make the function easy to expand with more patterns by writing down a description of what data looks like, and trying all patterns one by one"
     ]
    },
    {
     "cell_type": "code",
     "collapsed": false,
     "input": [
      "def get_fields(record):\n",
      "    \"\"\"Returns (Site, Year, Month, Day, Evil) as a tuple, or None.\"\"\"\n",
      "    \n",
      "    # List of patterns that describe the data, and position in data of the fields (s,y,m,d,e)\n",
      "    patterns = [ (\"(.+)\\t([0-9]{4})-([0-9]{2})-([0-9]{2})\\t(.+)\", 1,2,3,4,5),\n",
      "                 (\"(.+)/([A-Z][a-z]+) ([0-9]{1,2}),? ([0-9]{4})/(.+)\", 1,4,2,3,5)\n",
      "                 ]\n",
      "    for p,s,y,m,d,e in patterns:\n",
      "        match = re.search(p, record)\n",
      "        if match is not None:\n",
      "            return match.group(s), match.group(y), match.group(m), match.group(d), match.group(e)\n",
      "        \n",
      "    return None\n",
      "\n",
      "# now let's test it...\n",
      "for r in readings:\n",
      "    print r.strip()\n",
      "    print get_fields(r)"
     ],
     "language": "python",
     "metadata": {},
     "outputs": [
      {
       "output_type": "stream",
       "stream": "stdout",
       "text": [
        "Baker 1\t2012-04-30\t4715.4\n",
        "('Baker 1', '2012', '04', '30', '4715.4')\n",
        "Baker 2\t2011-07-17\t10.593\n",
        "('Baker 2', '2011', '07', '17', '10.593')\n",
        "Baker 1\t2011-08-26\t246.85\n",
        "('Baker 1', '2011', '08', '26', '246.85')\n",
        "Baker 2\t2011-06-03\t1499.9\n",
        "('Baker 2', '2011', '06', '03', '1499.9')\n",
        "Baker 2\t2011-03-12\t1229.5\n",
        "('Baker 2', '2011', '03', '12', '1229.5')\n",
        "Baker 1\t2012-01-13\t3945.9\n",
        "('Baker 1', '2012', '01', '13', '3945.9')\n",
        "Pertwee/February 28, 2012/1287\n",
        "('Pertwee', '2012', 'February', '28', '1287')\n",
        "Davison/December 18, 2011/373.09\n",
        "('Davison', '2011', 'December', '18', '373.09')\n",
        "Capaldi/June 08, 2011/519.79\n",
        "('Capaldi', '2011', 'June', '08', '519.79')\n",
        "Pertwee/February 24, 2012/1554.6\n",
        "('Pertwee', '2012', 'February', '24', '1554.6')\n",
        "Davison/April 28, 2011/4099.6\n",
        "('Davison', '2011', 'April', '28', '4099.6')\n",
        "Davison/November 11, 2011/1436.3\n",
        "('Davison', '2011', 'November', '11', '1436.3')\n"
       ]
      }
     ],
     "prompt_number": 32
    },
    {
     "cell_type": "markdown",
     "metadata": {},
     "source": [
      "The Notebook found in Saragossa\n",
      "-------------------------------\n",
      "\n",
      "Hmm it seems a third notebook with evil readings was just sent by a PhD you had forgot about. Let's have a look:"
     ]
    },
    {
     "cell_type": "code",
     "collapsed": false,
     "input": [
      "!head NoteBook3.txt"
     ],
     "language": "python",
     "metadata": {},
     "outputs": [
      {
       "output_type": "stream",
       "stream": "stdout",
       "text": [
        "Date Site Evil (mvad)\n",
        "----------------------------\n",
        "August 30 2010 (Spock) 978.9\n",
        "January 31 2010 (Spock) 810.6\n",
        "August 26 2011 (Spock) 595.6\n",
        "November 02 2010 (Chekov) 511\n",
        "November 13 2011 (Sulu) 712.5\n",
        "September 14 2010 (Spock) 11.53\n",
        "July 21 2011 (Chekov) 570.2\n",
        "April 11 2011 (Spock) 198.9\n"
       ]
      }
     ],
     "prompt_number": 33
    },
    {
     "cell_type": "markdown",
     "metadata": {},
     "source": [
      "She choose another entirely different format! Oh well, we need to add another pattern to the list and our amazing function will do the rest. But hang on a second: in the text, we have parentheses, and we learned today that parentheses, the syntax of Regular Expressions, are used to group data. How do match parentheses???\n",
      "\n",
      "Well, we need the help of the backslash '\\' which is a *prefix operator*, i.e. it modifies the behaviour of the next character that follows it. So, '\\(' now means *match the left parenthesis* and '\\)' means *match the right parenthesis*. In some other areas of computing, a combination of backslash and another character is known as an *escape sequence*; some examples are the TAB character '\\t', the newline character '\\n'.\n",
      "\n",
      "Ok it's left to you to find the correct pattern, insert it in the `get_fields` function and test it with the new input.\n",
      "\n",
      "\n",
      "\n",
      "Solution: `(\"(.+) ([0-9]{1,2}) ([0-9]{4}) \\((.+)\\) (.+)\", 4, 3, 1, 2, 5)`\n",
      "\n",
      "More escape sequences\n",
      "---------------------\n",
      "\n",
      "Escape sequences are in fact used as a shorthand notation for frequent patterns in Regular Expressions, so let's learn them:\n",
      "\n",
      "\n",
      "`\\d`  means *digit*, it's equivalent to `[0-9]`\n",
      "`\\s`  means *whitespace*, it can match any of `' '`, `\\t`, `\\r`, `\\n`\n",
      "`\\w`  means *word character*, it's equivalent to `[A-Za-z0-9_]`: why? Because letters, digits and underscore are legal characters for variable and function names in many languages such as C++, Java, Python, ...  \n",
      "`\\S`  means *anything but whitespace*. Please note it's uppercase (very confusing choice!)\n",
      "`\\W`  means *anything but word characters*. Again, watch out for the uppercase!\n",
      "\n",
      "Position inside a string\n",
      "------------------------\n",
      "\n",
      "The operator '^' means *match the beginning of a string* so that you can match expression that happen at the beginning but not in the middle of a string:"
     ]
    },
    {
     "cell_type": "code",
     "collapsed": false,
     "input": [
      "print 1, re.search(\"^put\",\"put the candle back\")\n",
      "print 2, re.search(\"^put\",\"my computer plays backgammon\")"
     ],
     "language": "python",
     "metadata": {},
     "outputs": [
      {
       "output_type": "stream",
       "stream": "stdout",
       "text": [
        "1 <_sre.SRE_Match object at 0x02F6C090>\n",
        "2 None\n"
       ]
      }
     ],
     "prompt_number": 47
    },
    {
     "cell_type": "markdown",
     "metadata": {},
     "source": [
      "Conversely, the operator `'$'` means *match the end of a string*:"
     ]
    },
    {
     "cell_type": "code",
     "collapsed": false,
     "input": [
      "print 1, re.search(\"back$\",\"put the candle back\")\n",
      "print 2, re.search(\"back$\",\"my computer plays backgammon\")"
     ],
     "language": "python",
     "metadata": {},
     "outputs": [
      {
       "output_type": "stream",
       "stream": "stdout",
       "text": [
        "1 <_sre.SRE_Match object at 0x02F6C100>\n",
        "2 None\n"
       ]
      }
     ],
     "prompt_number": 48
    }
   ],
   "metadata": {}
  }
 ]
}