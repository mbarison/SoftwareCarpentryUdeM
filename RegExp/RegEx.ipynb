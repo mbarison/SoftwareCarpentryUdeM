{
 "metadata": {
  "name": ""
 },
 "nbformat": 3,
 "nbformat_minor": 0,
 "worksheets": [
  {
   "cells": [
    {
     "cell_type": "markdown",
     "metadata": {},
     "source": [
      "Regular Expressions\n",
      "===================\n",
      "\n",
      "Regular expressions are a powerful tool to look for patterns and extract data from text. As a scientist, most of the data you will analyze in your career is presented in numerical format and contained in files ready to be processed by analysis software; however, in some cases you will need to retrieve and process data from plain text files. Here are are some real life examples:\n",
      "\n",
      "* the data is shown on a webpage and then saved to an HTML file;\n",
      "* the data comes from a logfile of a program;\n",
      "* the data is cut and pasted from a PDF document;\n",
      "* the data comes from the source of a LaTeX document.\n",
      "\n",
      "In these cases, you have to get rid of useless formatting information (e.g. HTML tags) to be able to access your data. If the files and the datasets are small, you can always do it by hand. But if the \"junk\" text to remove is too much, or if you need to process a few tens of files, then Regular Expressions can help you to automate the task.\n",
      "\n",
      "An unreal life example\n",
      "----------------------\n",
      "\n",
      "A meteorite has struck a remote region of Qu\u00e9bec, and the local population has started mutating, probably infected by an alien virus. As part of a research team, you send two PhD students to investigate. Before they are eaten by the mutants, they manage to send you two text files (internet connectivity is quite bad) with their measurements, now it's up to you to extract the data.\n",
      "\n",
      "Let's have a look at the first file:"
     ]
    },
    {
     "cell_type": "code",
     "collapsed": false,
     "input": [
      "!head NoteBook1.txt"
     ],
     "language": "python",
     "metadata": {},
     "outputs": [
      {
       "output_type": "stream",
       "stream": "stdout",
       "text": [
        "Site\tDate\t\tEvil (millivaders)\n",
        "----\t----\t\t------------------\n",
        "Baker 1\t2012-04-30\t4715.4\n",
        "Baker 2\t2011-10-17\t10.503\n",
        "Baker 1\t2011-08-26\t246.85\n",
        "Baker 2\t2011-06-03\t1499.9\n",
        "Baker 2\t2011-04-12\t1229.5\n",
        "Baker 1\t2012-01-13\t3945.9\n",
        "Baker 2\t2012-04-11\t2005\n",
        "Baker 2\t2011-09-03\t4292.5\n"
       ]
      }
     ],
     "prompt_number": 1
    },
    {
     "cell_type": "code",
     "collapsed": false,
     "input": [],
     "language": "python",
     "metadata": {},
     "outputs": []
    }
   ],
   "metadata": {}
  }
 ]
}